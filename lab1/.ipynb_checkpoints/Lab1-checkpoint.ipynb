{
 "cells": [
  {
   "cell_type": "markdown",
   "metadata": {},
   "source": [
    " \n",
    "<table style=\"width:100%\">\n",
    "  <tr style=\"background-color:#002147\">\n",
    "    <th><p style=\"color:white\">Professional Programme, Department of Computer Science, University of Oxford</th> \n",
    "  </tr>\n",
    "</table>"
   ]
  },
  {
   "cell_type": "markdown",
   "metadata": {},
   "source": [
    "#  Things of the Internet (TOI) - Lab 1: RF-Based Positioning\n"
   ]
  },
  {
   "cell_type": "markdown",
   "metadata": {},
   "source": [
    "##  Introduction\n",
    "\n",
    "Localization is a key capability for things of the internet. Things need to know where they are in order to add context to sensor readings. There are many ways of working out where a sensor is, ranging from GPS to Inertial Measurement Units (IMU). However, one of the simplest techniques is to use measurements of ambient radio signal strength e.g. WiFi. Things are equipped with wireless transceivers anyway for communication, so the key is to try and exploit the transceiver to give measurements of location. This is particularly well suited to indoor settings, where a number of APs (access points/routers) are installed to provide good communication coverage for mobile devices to connect to a wireless network. The operating principle is simple: the closer the device is to an AP, the stronger the Received Signal Strength (RSS). However, the devil is in the details – the surrounding environment (walls, people, furniture, obstacles etc.) all conspire to alter the relationship between signal strength and distance. What starts off as a nice straight line in theory turns into a very wiggly and noisy relationship. What is worse, this relationship is also dynamic – a stationary WiFi device will typically experience a variation in signal strength over time.\n",
    "\n",
    "So, the question is: how are we going to use these noisy measurements to estimate a device’s location, and how accurate can it be?\n",
    "Rather than using a physics-based model and trying to model and represent all the sources of disturbance, we take a much simpler approach. We approach the problem by breaking it down into two stages. In the first stage (the offline phase), we manually survey the signal strengths, i.e. we stand in a surveyed location and record what APs can be heard and with what strength. We obtain a vector (tuple) of measurements e.g. <X:-20,Y:-30,Z-32> could be the vector from one location, where we can hear APs X,Y and Z, and <W:-40,Z-60> could be the vector from another location where we can hear APs W and Z. These vectors of signal strength are commonly called fingerprints - the hope is that they are sufficiently unique and discriminative such that every location has a different fingerprint. Obviously, there is a time (and consequently financial) cost in building the map, so there is a question about how precisely the map needs to be surveyed. For example, on a 1 m grid spacing or on a 5 m grid spacing or even simply in the centre of each room.\n",
    "\n",
    "In the second phase (the online phase), the device will record a vector of signal strengths. The goal now is to come up with some algorithm that, with the aid of the map collected in the offline phase, could accurately determine the location of the device. There are many different approaches to doing this, and the aim of this lab is to demonstrate how a location system could be built using WiFi signal strength measurements, to consider factors which would impact its performance, and to discuss its relative merits.\n"
   ]
  },
  {
   "cell_type": "markdown",
   "metadata": {},
   "source": [
    "<b>\n",
    "NOTE: The labs in this course are based on Python 3. Please refer to the environment setting introduction for details. If you have any problems with Python version please ask for help.\n",
    "</b>"
   ]
  },
  {
   "cell_type": "markdown",
   "metadata": {},
   "source": [
    "### 1 Exploratory Data Analysis\n",
    "\n",
    "We have collected a set of data for use in this lab. During the offline phase we survey the environment collecting RSS measurements. For this demonstration we have collected 60 samples per location. Navigate to “data/set1/wifiData/” and open “Wifi_14.txt” with a text editor to look at a sample file. The first few lines look like the following:\n",
    "\n",
    "`\n",
    "2 4\n",
    "1 AP_1 -37.89\n",
    "2 AP_2 -52.63\n",
    "3 AP_3 -44.98\n",
    "4 AP_1 -38.68\n",
    "5 AP_2 -61.14\n",
    "6 AP_3 -35.08\n",
    "7 AP_1 -39.46\n",
    "8 AP_2 -61.62\n",
    "9 AP_3 -47.00\n",
    "10 AP_1 -38.00\n",
    "11 AP_2 -60.69\n",
    ".....`\n",
    "\n",
    "The first line in the file is the survey coordinate i.e. (x = 2 m, y = 4 m).  The remainder of the lines detail the signal strengths in dBm from each access point. Note that each access point normally has a long BSSID as a unique identifier (e.g. `d8:c7:c8:cc:43:24`), but we have made things simpler here for ease of understanding.\n",
    "\n",
    "Each file corresponds to a different survey location and typically 60 measurements are taken from each AP. In this dataset (set1), there are 3 APs in range, and in total we have collected Wi-Fi samples from 121 locations. \n",
    "\n",
    "During the online phase we want to estimate the user’s unknown location using RSS readings collected at that location. There we will use the test data set.\n",
    "\n",
    "To simplify things, we have couple of functions pre-written for us to do the data loading and processing - this should make it simpler to focus on the interesting parts of this challenge.\n",
    "\n",
    "Finally, we have collected two datasets (i.e. set1 and set2); set1 contains RSS measurements with respect to 3 APs and set2 with respect to 5 APs."
   ]
  },
  {
   "cell_type": "markdown",
   "metadata": {},
   "source": [
    "### 2 Loading and Visualizing\n",
    "\n",
    "We have written some helper functions which load the datasets (both test and train) and visualize their spatial distribution, which can be found in `helper.py`. "
   ]
  },
  {
   "cell_type": "code",
   "execution_count": 1,
   "metadata": {},
   "outputs": [],
   "source": [
    "import helper as myhelper\n",
    "\n",
    "def get_location(dataset, index):\n",
    "    \"\"\" This function will give us the location \"\"\"\n",
    "    x = dataset[index, 1]\n",
    "    y = dataset[index, 2]\n",
    "    return x, y\n",
    "    \n",
    "def get_AP_signal_strength(dataset, index, AP_n, num_of_samples):\n",
    "    \"\"\" \n",
    "    This function will give us a list of measurements from the AP number AP_n.\n",
    "    Set the num_of_samples according to the number of measurements in the train or the test set.\n",
    "    \"\"\"\n",
    "    signal_strenghts = dataset[index,3+AP_n*num_of_samples:3+(AP_n+1)*num_of_samples]\n",
    "    return signal_strenghts"
   ]
  },
  {
   "cell_type": "markdown",
   "metadata": {},
   "source": [
    "The function `load_wifi_data` has the following API\n",
    "\n",
    "```python\n",
    "def load_wifi_data(data_folder, n_samples, n_ap):\n",
    "    \"\"\"\n",
    "    :param data_folder: Location of WiFi RSS data\n",
    "    :param n_samples: Number of RSS samples to return for each location\n",
    "    :param n_ap: Number of access points\n",
    "    :return: train and test wifi databases\n",
    "    \"\"\"\n",
    " ```\n",
    " \n",
    "Lets load up the train and test datasets from Set1 (3 APs)."
   ]
  },
  {
   "cell_type": "code",
   "execution_count": 2,
   "metadata": {},
   "outputs": [],
   "source": [
    "import os\n",
    "parent_dir = os.path.abspath(os.path.join('..'))\n",
    "datasetpath = os.path.join(parent_dir,'lab1','data','set1')\n",
    "NUMBER_OF_APS = 3\n",
    "MAX_SAMPLES = 60\n",
    "trainData,testData = myhelper.load_wifi_data(datasetpath,MAX_SAMPLES,NUMBER_OF_APS)"
   ]
  },
  {
   "cell_type": "markdown",
   "metadata": {},
   "source": [
    "The dataset is stored simply as a large array, with the following structure:\n",
    "![db1.png](db1.png)\n"
   ]
  },
  {
   "cell_type": "markdown",
   "metadata": {},
   "source": [
    "Let's look at the first row of the training dataset:"
   ]
  },
  {
   "cell_type": "code",
   "execution_count": 55,
   "metadata": {},
   "outputs": [
    {
     "data": {
      "text/plain": [
       "array([  0.  ,   0.  ,   0.  , -44.63, -44.09, -43.74, -43.69, -44.37,\n",
       "       -44.3 , -44.96, -44.57, -46.01, -43.99, -44.6 , -44.89, -43.89,\n",
       "       -44.53, -45.14, -44.4 , -44.32, -44.19, -44.41, -44.92, -43.79,\n",
       "       -45.79, -44.27, -44.32, -44.67, -44.83, -44.23, -44.29, -44.55,\n",
       "       -44.9 , -44.84, -45.3 , -44.42, -44.97, -44.95, -44.8 , -44.34,\n",
       "       -44.69, -43.8 , -44.66, -45.76, -44.31, -44.98, -44.3 , -43.9 ,\n",
       "       -44.34, -43.64, -44.51, -44.48, -43.19, -44.48, -44.25, -45.33,\n",
       "       -44.09, -44.75, -44.09, -44.73, -44.47, -43.95, -43.95, -70.63,\n",
       "       -56.39, -59.67, -58.89, -64.99, -55.39, -62.72, -62.12, -59.01,\n",
       "       -66.36, -58.59, -71.66, -59.06, -63.67, -63.53, -63.44, -54.89,\n",
       "       -62.46, -66.25, -53.15, -49.2 , -64.24, -61.71, -57.89, -60.21,\n",
       "       -62.89, -65.15, -59.22, -56.98, -63.78, -57.22, -60.62, -65.19,\n",
       "       -64.11, -65.38, -68.56, -68.29, -62.27, -67.61, -61.4 , -59.8 ,\n",
       "       -50.59, -66.38, -73.23, -60.35, -64.27, -61.51, -70.02, -60.91,\n",
       "       -62.85, -57.52, -68.24, -59.05, -61.  , -60.25, -66.18, -69.91,\n",
       "       -60.6 , -56.54, -60.83, -41.42, -51.33, -35.13, -53.4 , -39.19,\n",
       "       -37.62, -46.27, -51.46, -43.91, -40.82, -49.55, -42.25, -43.89,\n",
       "       -40.04, -41.11, -39.11, -43.09, -45.77, -39.88, -40.78, -43.56,\n",
       "       -40.52, -42.42, -51.24, -49.31, -46.33, -40.37, -42.45, -43.32,\n",
       "       -47.38, -33.73, -39.82, -44.02, -44.78, -39.36, -39.71, -47.53,\n",
       "       -43.93, -51.54, -41.04, -43.84, -47.58, -47.22, -41.41, -35.47,\n",
       "       -45.26, -39.6 , -38.42, -45.08, -40.46, -41.88, -46.54, -41.63,\n",
       "       -43.96, -48.2 , -44.18, -33.65, -44.12, -46.  , -48.89])"
      ]
     },
     "execution_count": 55,
     "metadata": {},
     "output_type": "execute_result"
    }
   ],
   "source": [
    "# Look at the first row of the array\n",
    "trainData[0,:]"
   ]
  },
  {
   "cell_type": "markdown",
   "metadata": {},
   "source": [
    "This is a bit hard to read through, so we have prepared a couple of functions that will help you navigate this data:"
   ]
  },
  {
   "cell_type": "code",
   "execution_count": 56,
   "metadata": {},
   "outputs": [
    {
     "name": "stdout",
     "output_type": "stream",
     "text": [
      "Measurement with the index 0 was conducted at location 0.0 0.0\n"
     ]
    }
   ],
   "source": [
    "# This will give us the [x,y] coordinates for the asked index\n",
    "i = 0\n",
    "x, y = get_location(trainData, index = i)\n",
    "print(\"Measurement with the index\",i,\"was conducted at location\",x,y)"
   ]
  },
  {
   "cell_type": "markdown",
   "metadata": {},
   "source": [
    "**Question 2.1** If we use the trainData to build the map and our localisation approach, how can we use the position information from testData?"
   ]
  },
  {
   "cell_type": "markdown",
   "metadata": {},
   "source": [
    "Your answer:"
   ]
  },
  {
   "cell_type": "markdown",
   "metadata": {},
   "source": [
    "Similarly, we prepared the function <strong>get_AP_signal_strength()</strong> to get the signal strenghts measured at this index.\n",
    "\n",
    "Note that \"num_of_samples\" refers to how many measurements we made. The training set has 60, while the testing set has 50."
   ]
  },
  {
   "cell_type": "code",
   "execution_count": 57,
   "metadata": {},
   "outputs": [
    {
     "data": {
      "text/plain": [
       "array([-44.63, -44.09, -43.74, -43.69, -44.37, -44.3 , -44.96, -44.57,\n",
       "       -46.01, -43.99, -44.6 , -44.89, -43.89, -44.53, -45.14, -44.4 ,\n",
       "       -44.32, -44.19, -44.41, -44.92, -43.79, -45.79, -44.27, -44.32,\n",
       "       -44.67, -44.83, -44.23, -44.29, -44.55, -44.9 , -44.84, -45.3 ,\n",
       "       -44.42, -44.97, -44.95, -44.8 , -44.34, -44.69, -43.8 , -44.66,\n",
       "       -45.76, -44.31, -44.98, -44.3 , -43.9 , -44.34, -43.64, -44.51,\n",
       "       -44.48, -43.19, -44.48, -44.25, -45.33, -44.09, -44.75, -44.09,\n",
       "       -44.73, -44.47, -43.95, -43.95])"
      ]
     },
     "execution_count": 57,
     "metadata": {},
     "output_type": "execute_result"
    }
   ],
   "source": [
    "AP_n = 0 # 0 corresponds to AP1, 1 to AP2, ...\n",
    "get_AP_signal_strength(trainData, index=0, AP_n=AP_n, num_of_samples=60)"
   ]
  },
  {
   "cell_type": "code",
   "execution_count": 58,
   "metadata": {},
   "outputs": [
    {
     "data": {
      "text/plain": [
       "array([-38.05, -39.02, -38.6 , -37.72, -39.11, -38.91, -37.81, -38.1 ,\n",
       "       -37.88, -38.93, -38.76, -37.86, -37.78, -37.94, -38.31, -37.95,\n",
       "       -38.48, -37.76, -38.01, -38.03, -38.66, -38.2 , -37.86, -37.94,\n",
       "       -39.16, -37.71, -38.5 , -38.02, -38.5 , -37.79, -38.49, -37.99,\n",
       "       -37.66, -38.05, -37.6 , -37.99, -38.88, -38.57, -38.33, -38.27,\n",
       "       -38.39, -38.31, -37.73, -36.93, -38.88, -38.22, -37.24, -37.8 ,\n",
       "       -38.32, -37.9 ])"
      ]
     },
     "execution_count": 58,
     "metadata": {},
     "output_type": "execute_result"
    }
   ],
   "source": [
    "AP_n = 0\n",
    "get_AP_signal_strength(testData, index=0, AP_n=AP_n, num_of_samples=50)"
   ]
  },
  {
   "cell_type": "markdown",
   "metadata": {},
   "source": [
    "Investigate the sample strengths from AP1 (view the first AP by setting \"AP_n=0\") at this location, using the snippet below."
   ]
  },
  {
   "cell_type": "code",
   "execution_count": 59,
   "metadata": {},
   "outputs": [
    {
     "data": {
      "image/png": "[encoded data removed]",
      "text/plain": [
       "<Figure size 640x480 with 1 Axes>"
      ]
     },
     "metadata": {},
     "output_type": "display_data"
    }
   ],
   "source": [
    "import pylab\n",
    "import numpy as np\n",
    "signalStrengthAP1 = get_AP_signal_strength(trainData, index=0, AP_n=0, num_of_samples=60)\n",
    "pylab.plot(signalStrengthAP1)\n",
    "pylab.show()"
   ]
  },
  {
   "cell_type": "markdown",
   "metadata": {},
   "source": [
    "**Question 2.2**: What do you notice about the signal strength readings?\n"
   ]
  },
  {
   "cell_type": "markdown",
   "metadata": {},
   "source": [
    "Your answer:"
   ]
  },
  {
   "cell_type": "markdown",
   "metadata": {},
   "source": [
    "**Question 2.3**: Change the location indexes and see what happens to the signal strength. Is there any pattern?"
   ]
  },
  {
   "cell_type": "markdown",
   "metadata": {
    "collapsed": false,
    "jupyter": {
     "outputs_hidden": false
    }
   },
   "source": [
    "Your answer:"
   ]
  },
  {
   "cell_type": "markdown",
   "metadata": {},
   "source": [
    "**Question 2.3**: Can you estimate the likely position of AP1?"
   ]
  },
  {
   "cell_type": "markdown",
   "metadata": {},
   "source": [
    "Your answer"
   ]
  },
  {
   "cell_type": "markdown",
   "metadata": {},
   "source": [
    "**Question 2.4**: You can check the locations (using \"get_location(trainData, index)\") where we made these measurements - can you see anything strange about them?"
   ]
  },
  {
   "cell_type": "markdown",
   "metadata": {},
   "source": [
    "Your answer"
   ]
  },
  {
   "cell_type": "markdown",
   "metadata": {},
   "source": [
    "**Question 2.5**: (optional) Can you visualize 2-D map of signal strength for each access point?"
   ]
  },
  {
   "cell_type": "markdown",
   "metadata": {},
   "source": [
    "Your answer"
   ]
  },
  {
   "cell_type": "markdown",
   "metadata": {},
   "source": [
    "### 3 A simple approach to finding location\n",
    "\n",
    "Now that we have a better understanding of how the signals vary over space (and time), we can now try and solve the localization problem: given a set of signal strengths at an unknown location and an offline map, can we find the best estimate of the device position?\n",
    "\n",
    "One of the simplest approaches is just a nearest neighbour lookup i.e. we just compare our candidate set of signal strengths to the signal strengths in the offline map and find the closest match. \n",
    "<br/>\n",
    "\n",
    "**Question 3.1**: What would be a good way of working out how \"far\" two sets of signal strengths are from each other?"
   ]
  },
  {
   "cell_type": "markdown",
   "metadata": {},
   "source": [
    "Your answer:"
   ]
  },
  {
   "cell_type": "markdown",
   "metadata": {},
   "source": [
    "Rather than using all the raw information in the table, it perhaps would be more helpful to turn the 60 readings from each AP into representative statistics.\n",
    "\n",
    "<br/>\n",
    "\n",
    "**Question 3.2**: What are some sensible statistics that could be used?"
   ]
  },
  {
   "cell_type": "markdown",
   "metadata": {},
   "source": [
    "Your answer"
   ]
  },
  {
   "cell_type": "markdown",
   "metadata": {},
   "source": [
    "In this approach, we will simply compute the mean of the readings in the map for each AP. We will then compute the difference between the trial signal strength and each of the values in the map, recording the index of the smallest distance. Lets start from the first point in the testData set.\n",
    "\n",
    "<br/>\n",
    "\n",
    "**Question 3.3**: What is the ground-truth location of this point?"
   ]
  },
  {
   "cell_type": "markdown",
   "metadata": {},
   "source": [
    "Your answer"
   ]
  },
  {
   "cell_type": "markdown",
   "metadata": {},
   "source": [
    "Fill in the skeleton code below to find the closest point in the offline map to the candidate point. Note that although we take 50 samples in the test data set, we are just using the first sample point i.e. an instantaneous snap-shot."
   ]
  },
  {
   "cell_type": "code",
   "execution_count": 18,
   "metadata": {},
   "outputs": [],
   "source": [
    "import numpy as np\n",
    "\n",
    "# Extract the ground-truth location\n",
    "groundTruthX, groundTruthY = get_location(testData, index=i)\n",
    "# Take the Signal Strengths of each AP in the trial point\n",
    "testAP1signals = get_AP_signal_strength(testData, index=i, AP_n=0, num_of_samples=50) # < remember, the test dataset has 50 measurements!\n",
    "testAP2signals = get_AP_signal_strength(testData, index=i, AP_n=1, num_of_samples=50)\n",
    "testAP3signals = get_AP_signal_strength(testData, index=i, AP_n=2, num_of_samples=50)\n",
    "        \n",
    "testAP1 = testAP1signals[0]\n",
    "testAP2 = testAP2signals[0]\n",
    "testAP3 = testAP3signals[0]\n",
    "# Iterate through the map\n",
    "for k in range(len(trainData)):\n",
    "    surveyAP1mean = np.mean( get_AP_signal_strength(trainData, index=k, AP_n=0, num_of_samples=60) ) # < remember, the train dataset has 60 measurements!\n",
    "    surveyAP2mean = np.mean( get_AP_signal_strength(trainData, index=k, AP_n=1, num_of_samples=60) )\n",
    "    surveyAP3mean = np.mean( get_AP_signal_strength(trainData, index=k, AP_n=2, num_of_samples=60) )\n",
    "\n",
    "    # compute the score here, and record the best position in the map\n",
    "    # ....\n",
    "# ...    "
   ]
  },
  {
   "cell_type": "markdown",
   "metadata": {},
   "source": [
    "**Question 3.4**: What is the distance error between the ground-truth location and the closest match in the map?"
   ]
  },
  {
   "cell_type": "markdown",
   "metadata": {},
   "source": [
    "Your answer"
   ]
  },
  {
   "cell_type": "markdown",
   "metadata": {},
   "source": [
    "**Question 3.4**: For the test data, now try using the average value of the 50 samples in the dataset, instead of just the first one. Does the accuracy improve?"
   ]
  },
  {
   "cell_type": "markdown",
   "metadata": {},
   "source": [
    "Your answer"
   ]
  },
  {
   "cell_type": "markdown",
   "metadata": {},
   "source": [
    "**Question 3.5**: Wrap your code into a function `predict()` that you can use to run through all the test points computing errors for each test location. Visualize the result with the help of the following plot function. What is the mean overall error? What is the worst case error? Which do you think is more important for a localisation system and why?"
   ]
  },
  {
   "cell_type": "markdown",
   "metadata": {},
   "source": [
    "Your answer"
   ]
  },
  {
   "cell_type": "code",
   "execution_count": 19,
   "metadata": {},
   "outputs": [],
   "source": [
    "# Plot the actual and estimated locations\n",
    "import matplotlib.pyplot as plt\n",
    "def plot_path(actual_loc, predicted_loc, n_ap):\n",
    "    \"\"\"\n",
    "    :param actual_loc: Actual locations\n",
    "    :param predicted_loc: Estimated locations\n",
    "    :param n_ap: Number of APs\n",
    "    :return: null\n",
    "    \"\"\"\n",
    "    print(\"-> Visualizing estimated trajectory...\")\n",
    "\n",
    "    if n_ap == 3:\n",
    "        ap_loc = np.array([[6, 6], [8, 16], [18, 14]])\n",
    "    else:\n",
    "        ap_loc = np.array([[6, 6], [8, 16], [18, 14], [16, 4], [12, 10]])\n",
    "\n",
    "    plt.figure()\n",
    "    plt.plot(ap_loc[:, 0], ap_loc[:, 1], 'b*', markersize=15)\n",
    "    plt.plot(actual_loc[:, 0], actual_loc[:, 1], 'go-', linewidth=2)\n",
    "    plt.plot(predicted_loc[:, 0], predicted_loc[:, 1], 'ro-', linewidth=2)\n",
    "\n",
    "    major_ticks = np.arange(-2, 22, 2)\n",
    "\n",
    "    axes = plt.gca()\n",
    "    axes.set_xlim([-2, 22])\n",
    "    axes.set_ylim([-2, 22])\n",
    "    axes.set_xticks(major_ticks)\n",
    "    axes.set_yticks(major_ticks)\n",
    "    plt.xlabel('X -> m')\n",
    "    plt.ylabel('Y -> m')\n",
    "    plt.title('Green line = actual path , Red line = estimated path, Blue points = AP loc')\n",
    "    plt.grid(True)\n",
    "    plt.show(block=False)\n",
    "\n",
    "    print(\"done\\n\")\n",
    "    return\n",
    "\n",
    "#your code here\n",
    "actual_loc = np.zeros((len(testData), 2))\n",
    "for i in range(len(testData)):\n",
    "    actual_loc[i] = get_location(testData, i)\n",
    "\n",
    "#predicted_loc = # your code here\n",
    "#plot_path(actual_loc,predicted_loc,3)\n",
    "\n",
    "#calculate mean error, median error, etc. here."
   ]
  },
  {
   "cell_type": "markdown",
   "metadata": {},
   "source": [
    "**Question 3.6**: (optional) Instead of finding the best (closest) match in the map, what if you found the top-k matches instead, and then computed their mean? Does this centroid-weighting approach help or not?"
   ]
  },
  {
   "cell_type": "markdown",
   "metadata": {},
   "source": [
    "Your answer"
   ]
  },
  {
   "cell_type": "markdown",
   "metadata": {},
   "source": [
    "### 4 HORUS: A probabilistic approach to location finding\n",
    "\n",
    "Instead of just taking the mean value of the signal strengths in the map, we can consider including higher-order statistics as well, e.g. the variance (or standard-deviation) that reflect the variability in the signal over time. One of the first approaches to WiFi fingerprinting proposed just this technique, which we will implement a simplified version of Youssef et al.:\n",
    "\n",
    "Youssef, Moustafa, and Ashok Agrawala. \"The Horus WLAN location determination system.\" Proceedings of the 3rd international conference on Mobile systems, applications, and services. ACM, 2005."
   ]
  },
  {
   "cell_type": "markdown",
   "metadata": {},
   "source": [
    "#### Mathematical Model\n",
    "\n",
    "Let $X$ be a 2-dimensional physical space. At each location $x \\in X$, we can measure the signal strength from $k$ access points. We denote the $k$-dimensional signal strength space as $S$. We denote samples from the signal strength space $S$ as $s$. We also assume that the samples from different access points are independent. \n",
    "The problem becomes, given a signal strength vector $s=(s_1, s_2 ... s_k)$ , we want to find the location $x \\in X$ that maximizes the probability $\\mathrm{P} (x \\vert s)$\n",
    "\n",
    "1)\t*Offline phase:* During the offline phase, the Horus system estimates the signal strength histogram for each access point at each location. These histograms represent the Horus system’s radio map. \n",
    "\n",
    "\n",
    "2)\t*Online phase:* Given a signal strength vector $s=(s_1, s_2 ... s_k)$ , we want to find the location $x \\in X$ that maximizes the probability  $P(x  \\vert   s)$, i.e. we want to find\n",
    "\n",
    "$$\\newcommand{\\argmaxI}{\\mathop{\\mathrm{argmax}}\\nolimits} \\argmaxI_x \\mathrm{P} (x \\vert s)$$\n",
    " \n",
    "\n",
    "Using Bayes’ theorem, this can be shown to be equivalent to:\n",
    "\n",
    "$$\\newcommand{\\argmaxI}{\\mathop{\\mathrm{argmax}}\\nolimits} \n",
    "\\argmaxI_x \\mathrm{P} (x \\vert s) =\n",
    "\\argmaxI_x \\mathrm{P} (s \\vert x) =\n",
    "\\argmaxI_x \\prod_{i=1}^{k} \\mathrm{P} (s_i \\vert x) $$\n",
    " \n",
    "Effectively, it says that we should find the location in the map that would maximize the likelihood (probability) of resulting in the sampled measurements."
   ]
  },
  {
   "cell_type": "markdown",
   "metadata": {},
   "source": [
    "#### Offline Phase: Build a histogram map\n",
    "\n",
    "In the offline phase, instead of storing N different raw measurements, or aggregating them using their mean, we will instead look at their distribution. Lets first investigate how best to represent the distribution compactly.\n",
    "\n",
    "\n",
    "\n",
    "**Question 4.1**: Plot a histogram (hint: use `pylab.hist()`) of signal strengths from one AP for one location. What do you notice about the distribution? Does this hold for other points in the survey dataset?\n"
   ]
  },
  {
   "cell_type": "code",
   "execution_count": 20,
   "metadata": {},
   "outputs": [],
   "source": [
    "#your code here"
   ]
  },
  {
   "cell_type": "markdown",
   "metadata": {},
   "source": [
    "Your answer"
   ]
  },
  {
   "cell_type": "markdown",
   "metadata": {},
   "source": [
    "Rather than storing the histogram as a set of bins, we can represent it as a normal (Gaussian) distribution. The normal distribution is parameterized by a mean $\\mu$ and standard deviation $\\sigma$. We can fit a normal distribution to a histogram of signal strengths to compactly represent the random variations, regardless of the number of samples in the histogram. We can use the helper function with the API below to transform the raw signal strength databases into normally distributed data.\n",
    "\n",
    "```python\n",
    "def fit_data(train_db, n_samples, n_ap):\n",
    "    \"\"\"\n",
    "    :param train_db: RSS points collected at known locations\n",
    "    :param n_samples: Number of RSS samples per location\n",
    "    :param n_ap: Number of access points\n",
    "    :return: Wifi fingerprint database; We approximate the RSS at each location with a Gaussian\n",
    "    \"\"\"\n",
    "```    \n",
    "\n",
    "Given a raw dataset of signal strengths as above, this transforms it into an array with the following structure:\n",
    "\n",
    "![db2.png](db2.png)\n",
    "\n",
    "This is accomplished in the two lines of code below. We also visualize a few samples to have a better understanding of the norm fitting process."
   ]
  },
  {
   "cell_type": "code",
   "execution_count": 3,
   "metadata": {},
   "outputs": [
    {
     "name": "stdout",
     "output_type": "stream",
     "text": [
      "-> Modeling RSS with Gaussian dist...done\n",
      "-> Modeling RSS with Gaussian dist...done\n",
      "[[  0.           0.           0.         ...   4.84854032 -43.36283333\n",
      "    4.39427434]\n",
      " [  1.           2.           6.         ...   4.8127828  -42.58916667\n",
      "    4.78920324]\n",
      " [  2.           4.          12.         ...   4.8737488  -41.0375\n",
      "    4.50920156]\n",
      " ...\n",
      " [118.           4.          14.         ...   5.40315139 -40.82033333\n",
      "    4.72321747]\n",
      " [119.           4.           2.         ...   5.62216035 -42.83983333\n",
      "    4.36469223]\n",
      " [120.           2.          12.         ...   5.22856017 -41.78816667\n",
      "    3.70735462]]\n"
     ]
    },
    {
     "ename": "NameError",
     "evalue": "name 'np' is not defined",
     "output_type": "error",
     "traceback": [
      "\u001b[31m---------------------------------------------------------------------------\u001b[39m",
      "\u001b[31mNameError\u001b[39m                                 Traceback (most recent call last)",
      "\u001b[36mCell\u001b[39m\u001b[36m \u001b[39m\u001b[32mIn[3]\u001b[39m\u001b[32m, line 22\u001b[39m\n\u001b[32m     20\u001b[39m mu = normTrainData[measurement_idx, \u001b[32m3\u001b[39m+measurement_idx*\u001b[32m2\u001b[39m]\n\u001b[32m     21\u001b[39m sigma = normTrainData[measurement_idx, \u001b[32m4\u001b[39m+measurement_idx*\u001b[32m2\u001b[39m]        \n\u001b[32m---> \u001b[39m\u001b[32m22\u001b[39m x = \u001b[43mnp\u001b[49m.linspace(mu - \u001b[32m3\u001b[39m*sigma, mu + \u001b[32m3\u001b[39m*sigma, \u001b[32m100\u001b[39m)\n\u001b[32m     23\u001b[39m axs[measurement_idx].plot(x, norm.pdf(x, mu, sigma),label=\u001b[33m'\u001b[39m\u001b[33mGaussian fit\u001b[39m\u001b[33m'\u001b[39m)\n\u001b[32m     25\u001b[39m \u001b[38;5;66;03m#Set labels\u001b[39;00m\n",
      "\u001b[31mNameError\u001b[39m: name 'np' is not defined"
     ]
    },
    {
     "data": {
      "image/png": "[encoded data removed]",
      "text/plain": [
       "<Figure size 1000x400 with 3 Axes>"
      ]
     },
     "metadata": {},
     "output_type": "display_data"
    }
   ],
   "source": [
    "normTrainData = myhelper.fit_data(trainData,MAX_SAMPLES,NUMBER_OF_APS)\n",
    "normTestData = myhelper.fit_data(testData,MAX_SAMPLES,NUMBER_OF_APS)\n",
    "\n",
    "print(normTrainData.shape)\n",
    "\n",
    "# visualization for a better understanding\n",
    "# visualize location 0 AP1, location 1 AP 2 and location 2 AP 3\n",
    "import matplotlib.pyplot as plt\n",
    "from scipy.stats import norm\n",
    "%matplotlib inline\n",
    "# Plot\n",
    "fig, axs = plt.subplots(1,3, figsize=(10,4))\n",
    "\n",
    "for measurement_idx in range(3):\n",
    "        #Plot histogram\n",
    "        n, bins, patches = axs[measurement_idx].hist(trainData[measurement_idx, 3+MAX_SAMPLES * measurement_idx: 3+MAX_SAMPLES*(measurement_idx + 1)], \n",
    "                                                     bins=10, density=True, histtype='step', cumulative=False, label='Histogram')\n",
    "\n",
    "        #Compute and plot normal distribution\n",
    "        mu = normTrainData[measurement_idx, 3+measurement_idx*2]\n",
    "        sigma = normTrainData[measurement_idx, 4+measurement_idx*2]        \n",
    "        x = np.linspace(mu - 3*sigma, mu + 3*sigma, 100)\n",
    "        axs[measurement_idx].plot(x, norm.pdf(x, mu, sigma),label='Gaussian fit')\n",
    "        \n",
    "        #Set labels\n",
    "        axs[measurement_idx].grid(True)\n",
    "        axs[measurement_idx].legend()\n",
    "        axs[measurement_idx].set_title('Number of counts')\n",
    "        axs[measurement_idx].set_xlabel('RSSI')\n",
    "        axs[measurement_idx].set_ylabel('Probability')\n",
    "plt.tight_layout()\n",
    "plt.show()"
   ]
  },
  {
   "cell_type": "markdown",
   "metadata": {},
   "source": [
    "**Question 4.2**: What are the pros and cons of using the Gaussian distribution to represent the signal strength histogram. Can you provide some specific scenarios where it would be a bad approximation?"
   ]
  },
  {
   "cell_type": "markdown",
   "metadata": {},
   "source": [
    "Your answer"
   ]
  },
  {
   "cell_type": "markdown",
   "metadata": {},
   "source": [
    "#### Online phase: find the best match\n",
    "\n",
    "Make a new version of your `predict()` function above to use this probabilistic technique. In particular, you will need to compute the likelihood that a sample (e.g. the mean of signal strength from AP_1) is actually drawn from the offline-computed distribution. You can compute the likelihood as follows:\n",
    "\n",
    "```python\n",
    "from scipy.stats import norm\n",
    "\n",
    "likelihood_AP1 = norm.pdf(trial_signal_strength_AP1, offline_mu_AP1, offline_sigma_AP1)\n",
    "likelihood_AP2 = norm.pdf(trial_signal_strength_AP2, offline_mu_AP2, offline_sigma_AP2)\n",
    "likelihood_AP3 = norm.pdf(trial_signal_strength_AP3, offline_mu_AP3, offline_sigma_AP3)\n",
    "likelihood = likelihood_AP1 * likelihood_AP2 * likelihood_AP3\n",
    "```\n",
    "\n",
    "As the Bayes equation shows above, you can simply multiply these probabilities together. An alternative approach, which is numerically more stable, is to instead take the log-likelihood. By taking logs of both sides of the equation, the multiplication turns into an addition, and you can simply add the log-likelihood probabilities from each AP to obtain the overall log-likelihood.  \n",
    "\n",
    "```python\n",
    "from scipy.stats import norm\n",
    "\n",
    "log_likelihood_AP1 = norm.logpdf(trial_signal_strength_AP1, offline_mu_AP1, offline_sigma_AP1)\n",
    "log_likelihood_AP2 = norm.logpdf(trial_signal_strength_AP2, offline_mu_AP2, offline_sigma_AP2)\n",
    "log_likelihood_AP3 = norm.logpdf(trial_signal_strength_AP3, offline_mu_AP3, offline_sigma_AP3)\n",
    "log_likelihood = log_likelihood_AP1 + log_likelihood_AP2 + log_likelihood_AP3\n",
    "```"
   ]
  },
  {
   "cell_type": "markdown",
   "metadata": {},
   "source": [
    "**Question 4.3**: Implement the probabilistic approach to `predict()` and compare its performance to the methods based simply on the mean or the centroid."
   ]
  },
  {
   "cell_type": "markdown",
   "metadata": {},
   "source": [
    "Your answer"
   ]
  },
  {
   "cell_type": "code",
   "execution_count": 22,
   "metadata": {},
   "outputs": [],
   "source": [
    "#your code here"
   ]
  },
  {
   "cell_type": "markdown",
   "metadata": {},
   "source": [
    "**Question 4.4**: (Advanced, optional) Can you plot the error cumulative density function for each of your predict methods?"
   ]
  },
  {
   "cell_type": "markdown",
   "metadata": {},
   "source": [
    "Your answer"
   ]
  },
  {
   "cell_type": "code",
   "execution_count": 23,
   "metadata": {},
   "outputs": [],
   "source": [
    "#your code here"
   ]
  },
  {
   "cell_type": "markdown",
   "metadata": {},
   "source": [
    "**Question 4.5**: (optional) How well do your methods work for the other dataset, with 5 APs?"
   ]
  },
  {
   "cell_type": "markdown",
   "metadata": {},
   "source": [
    "Your answer"
   ]
  },
  {
   "cell_type": "code",
   "execution_count": 24,
   "metadata": {},
   "outputs": [],
   "source": [
    "#your code here"
   ]
  },
  {
   "cell_type": "markdown",
   "metadata": {},
   "source": [
    "**Question 4.6**: (optional) Compare and contrast the techniques you have developed today. Consider aspects such as computational cost and factors such as how best to acquire and store the map. How can you update the map? Can you build a map without any surveying at all? Where should the computation happen? What is the impact of device specific variation e.g. different wireless network cards?"
   ]
  },
  {
   "cell_type": "markdown",
   "metadata": {},
   "source": [
    "Your answer"
   ]
  }
 ],
 "metadata": {
  "anaconda-cloud": {},
  "kernelspec": {
   "display_name": "Python 3 (ipykernel)",
   "language": "python",
   "name": "python3"
  },
  "language_info": {
   "codemirror_mode": {
    "name": "ipython",
    "version": 3
   },
   "file_extension": ".py",
   "mimetype": "text/x-python",
   "name": "python",
   "nbconvert_exporter": "python",
   "pygments_lexer": "ipython3",
   "version": "3.12.9"
  }
 },
 "nbformat": 4,
 "nbformat_minor": 4
}
